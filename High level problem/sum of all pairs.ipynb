{
 "cells": [
  {
   "cell_type": "markdown",
   "metadata": {},
   "source": [
    "Given a list of numbers, Find sum of  all pairs of equal numbers"
   ]
  },
  {
   "cell_type": "code",
   "execution_count": 4,
   "metadata": {},
   "outputs": [
    {
     "name": "stdout",
     "output_type": "stream",
     "text": [
      "67\n"
     ]
    }
   ],
   "source": [
    "list_num=[1,2,3,4,3,2,1,2,3,4,5,4,3,2,3,4,5,6,7,5,4,3,4] # the list of numbers\n",
    "list_sort=[]\n",
    "for i in list_num:\n",
    "    if i not in list_sort:\n",
    "        list_sort.append(i)\n",
    "dict1={} # creating empty dictionary for appending number of occurance of a number in a list\n",
    "for i in list_sort:\n",
    "    count=0\n",
    "    for x in list_num:\n",
    "        if x==i:\n",
    "            count=count+1 # for finding total occurance\n",
    "    dict1[i]=count\n",
    "\n",
    "addition=0\n",
    "for key,value in dict1.items():\n",
    "    if value>1:\n",
    "        addition=addition+int(key)*value # calulating sum through loop\n",
    "\n",
    "print(addition)"
   ]
  }
 ],
 "metadata": {
  "kernelspec": {
   "display_name": "Python 3",
   "language": "python",
   "name": "python3"
  },
  "language_info": {
   "codemirror_mode": {
    "name": "ipython",
    "version": 3
   },
   "file_extension": ".py",
   "mimetype": "text/x-python",
   "name": "python",
   "nbconvert_exporter": "python",
   "pygments_lexer": "ipython3",
   "version": "3.11.4"
  }
 },
 "nbformat": 4,
 "nbformat_minor": 2
}
