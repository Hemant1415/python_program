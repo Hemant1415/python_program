{
 "cells": [
  {
   "cell_type": "code",
   "execution_count": 4,
   "metadata": {},
   "outputs": [
    {
     "name": "stdout",
     "output_type": "stream",
     "text": [
      "median of the list is 4\n",
      "mode of the list is/are: [3, 4]\n"
     ]
    }
   ],
   "source": [
    "list_num=[12,2,3,4,5,3,2,3,4,5,4,2,3,4,5,6,4,3,2,3,4,5,6,2] # the list\n",
    "list_sort=[] # to sort the list in ascending order\n",
    "length=len(list_num)\n",
    "while length>0: # while loop will stop when length=0\n",
    "    min=list_num[0]\n",
    "    for i in list_num:\n",
    "        if min>i:\n",
    "            min=i\n",
    "    list_num.remove(min)\n",
    "    list_sort.append(min)\n",
    "    length=length-1\n",
    "index=int(len(list_sort)/2)+1\n",
    "if index%2==0:\n",
    "    median=(list_sort[index]+list_sort[index-1])/2 # middle index not found then we use average for median\n",
    "    print(\"median of the list is\",median) \n",
    "else:\n",
    "    median=list_sort[index-1]\n",
    "    print(\"median of the list is\",median)\n",
    "list_set=[]\n",
    "for i in list_sort:\n",
    "    if i not in list_set:\n",
    "        list_set.append(i)\n",
    "list_count=[]\n",
    "dict_count={}\n",
    "for i in list_set:\n",
    "    count=0\n",
    "    for x in list_sort:\n",
    "        if i==x:\n",
    "            count=count+1\n",
    "    dict_count[i]=count\n",
    "    list_count.append(count)\n",
    "max_count=max(list_count)\n",
    "mode=[]\n",
    "for key,value in dict_count.items():\n",
    "    if value==max_count:\n",
    "        mode.append(key) #  multiple modes are possible\n",
    "print(\"mode of the list is/are:\",mode)"
   ]
  }
 ],
 "metadata": {
  "kernelspec": {
   "display_name": "Python 3",
   "language": "python",
   "name": "python3"
  },
  "language_info": {
   "codemirror_mode": {
    "name": "ipython",
    "version": 3
   },
   "file_extension": ".py",
   "mimetype": "text/x-python",
   "name": "python",
   "nbconvert_exporter": "python",
   "pygments_lexer": "ipython3",
   "version": "3.11.4"
  }
 },
 "nbformat": 4,
 "nbformat_minor": 2
}
