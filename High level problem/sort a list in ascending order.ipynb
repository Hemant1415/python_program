{
 "cells": [
  {
   "cell_type": "code",
   "execution_count": 2,
   "metadata": {},
   "outputs": [
    {
     "name": "stdout",
     "output_type": "stream",
     "text": [
      "[1, 2, 2, 3, 3, 3, 4, 4, 5, 5, 6, 7, 8, 8]\n"
     ]
    }
   ],
   "source": [
    "list_num=[1,2,3,4,3,2,3,4,5,5,6,7,8,8] # the list\n",
    "list_asc=[]\n",
    "length=len(list_num)\n",
    "while length>0: # decides where would the while loop stops\n",
    "    min=list_num[0]\n",
    "    for i in list_num:\n",
    "        if min>i:\n",
    "            min=i\n",
    "    list_num.remove(min) # reducing steps of itration\n",
    "    list_asc.append(min)\n",
    "    length=length-1 \n",
    "print(list_asc)\n"
   ]
  }
 ],
 "metadata": {
  "kernelspec": {
   "display_name": "Python 3",
   "language": "python",
   "name": "python3"
  },
  "language_info": {
   "codemirror_mode": {
    "name": "ipython",
    "version": 3
   },
   "file_extension": ".py",
   "mimetype": "text/x-python",
   "name": "python",
   "nbconvert_exporter": "python",
   "pygments_lexer": "ipython3",
   "version": "3.11.4"
  }
 },
 "nbformat": 4,
 "nbformat_minor": 2
}
