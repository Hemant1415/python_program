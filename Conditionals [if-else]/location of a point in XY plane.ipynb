{
 "cells": [
  {
   "cell_type": "markdown",
   "metadata": {},
   "source": [
    "GIVEN A POINT (x1,y1) FIND IN WHICH QUADRANT THIS POINT LIES"
   ]
  },
  {
   "cell_type": "code",
   "execution_count": 1,
   "metadata": {},
   "outputs": [
    {
     "name": "stdout",
     "output_type": "stream",
     "text": [
      "The point is origin\n"
     ]
    }
   ],
   "source": [
    "x1=float(input(\"enter X coordinate of the point\"))\n",
    "y1=float(input(\"enter Y coordinate of the point\"))  # Taking coordinates of the point\n",
    "\n",
    "\n",
    "if x1>0 and y1>0:\n",
    "    print(\"(\",x1,y1,\") lies in First quadrant\") \n",
    "elif x1<0 and y1<0:\n",
    "    print(\"(\",x1,y1,\") lies in Third quadrant\")\n",
    "elif x1>0 and y1<0:\n",
    "    print(\"(\",x1,y1,\") lies in Forth quadrant\")\n",
    "elif x1<0 and y1>0:\n",
    "    print(\"(\",x1,y1,\") lies in Second quadrant\") # after all the above conditions only the points on axis left\n",
    "elif x1==0:\n",
    "    if y1>0:\n",
    "        print(\"(\",x1,y1,\") lies in positive Y axis\")\n",
    "    elif y1<0:\n",
    "        print(\"(\",x1,y1,\") lies in negetive  Y axis\")\n",
    "    else:\n",
    "        print(\"The point is origin\")\n",
    "else: # only condition left is y equals to zero \n",
    "    if x1>0:\n",
    "        print(\"(\",x1,y1,\") lies in positive x axis\")\n",
    "    elif x1<0:\n",
    "        print(\"(\",x1,y1,\") lies in negetive  x axis\")   \n",
    "    # this condition is working only for x not equal to zero so we don't need to check for origin inside this condition"
   ]
  }
 ],
 "metadata": {
  "kernelspec": {
   "display_name": "Python 3",
   "language": "python",
   "name": "python3"
  },
  "language_info": {
   "codemirror_mode": {
    "name": "ipython",
    "version": 3
   },
   "file_extension": ".py",
   "mimetype": "text/x-python",
   "name": "python",
   "nbconvert_exporter": "python",
   "pygments_lexer": "ipython3",
   "version": "3.11.4"
  }
 },
 "nbformat": 4,
 "nbformat_minor": 2
}
