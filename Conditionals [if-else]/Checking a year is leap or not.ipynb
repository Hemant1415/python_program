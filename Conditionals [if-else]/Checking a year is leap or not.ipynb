{
 "cells": [
  {
   "cell_type": "markdown",
   "metadata": {},
   "source": [
    "GIVEN A YEAR, CHECK IF IT IS A LEAP YEAR OR NOT. A LEAP YEAR IS DIVISIBLE BY 4, EXCEPT FOR YEARS THAT ARE DIVISIBLE BY 100. HOWEVER, YEARS THAT ARE DIVISIBLE BY 400 ARE ASLO LEAP YEARS"
   ]
  },
  {
   "cell_type": "code",
   "execution_count": 4,
   "metadata": {},
   "outputs": [
    {
     "name": "stdout",
     "output_type": "stream",
     "text": [
      "36 is leap year\n"
     ]
    }
   ],
   "source": [
    "year=int(input(\"enter the year\")) # taking year as input\n",
    "\n",
    "if year%400==0: # if year is divisible by 400 then it is a leap year\n",
    "    print(year,\"is leap year\")\n",
    "\n",
    "elif year%4==0 and year%100==0: # In this condition we only have years which are not divisible by 400 , so the remaining years which are divisible by both 4 and 100 are not leap year\n",
    "    \n",
    "    print(year,\"is not leap year\")\n",
    "\n",
    "elif year%4==0: # here remains only the years which are not divisible by 100, so the year divisible by 4 are leap yaer\n",
    "    print(year,\"is leap year\")\n",
    "\n",
    "else: # here remains years which are not divisible by 4 and they are not leap year\n",
    "    print(year,'is not leap year')"
   ]
  }
 ],
 "metadata": {
  "kernelspec": {
   "display_name": "Python 3",
   "language": "python",
   "name": "python3"
  },
  "language_info": {
   "codemirror_mode": {
    "name": "ipython",
    "version": 3
   },
   "file_extension": ".py",
   "mimetype": "text/x-python",
   "name": "python",
   "nbconvert_exporter": "python",
   "pygments_lexer": "ipython3",
   "version": "3.11.4"
  }
 },
 "nbformat": 4,
 "nbformat_minor": 2
}
