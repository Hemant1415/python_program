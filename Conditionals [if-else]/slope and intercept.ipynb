{
 "cells": [
  {
   "cell_type": "markdown",
   "metadata": {},
   "source": [
    "GIVEN TWO POINTS (x1,y1) and (x2,y2). FIND THE SLOPE AND INTERCEPT OF THE LINE FORMED BY JOINING THEM ( LINE CAN BE VERTICLE OR HORIZONTAL)"
   ]
  }
 ],
 "metadata": {
  "kernelspec": {
   "display_name": "Python 3",
   "language": "python",
   "name": "python3"
  },
  "language_info": {
   "name": "python",
   "version": "3.11.4"
  }
 },
 "nbformat": 4,
 "nbformat_minor": 2
}
