{
 "cells": [
  {
   "cell_type": "markdown",
   "metadata": {},
   "source": [
    "CHECK WEATHER A GIVEN INTEGER IS EVEN OR ODD"
   ]
  },
  {
   "cell_type": "code",
   "execution_count": null,
   "metadata": {},
   "outputs": [],
   "source": [
    "integer=int(input(\"enter an integer\")) # taking input as integer\n",
    "\n",
    "if integer%2==0:  # Applying condition to check\n",
    "    print(integer,\"is even\")\n",
    "else:\n",
    "    print(integer,\"is odd\")"
   ]
  }
 ],
 "metadata": {
  "kernelspec": {
   "display_name": "Python 3",
   "language": "python",
   "name": "python3"
  },
  "language_info": {
   "name": "python",
   "version": "3.11.4"
  }
 },
 "nbformat": 4,
 "nbformat_minor": 2
}
