{
 "cells": [
  {
   "cell_type": "markdown",
   "metadata": {},
   "source": [
    "GIVEN THREE INTEGERS FIND SMALLEST AMONG THAT"
   ]
  },
  {
   "cell_type": "code",
   "execution_count": 2,
   "metadata": {},
   "outputs": [
    {
     "name": "stdout",
     "output_type": "stream",
     "text": [
      "2 is smallest\n"
     ]
    }
   ],
   "source": [
    "integer1=int(input(\"enter first integer\"))\n",
    "integer2=int(input(\"enter second integer\"))\n",
    "integer3=int(input(\"enter third integer\")) # taking input from user\n",
    "\n",
    "\n",
    "if integer3>integer2:\n",
    "    if integer1>integer2:\n",
    "        print(integer2,\"is smallest\")\n",
    "    elif integer2>integer1:\n",
    "        print(integer1,\"is smallest\")\n",
    "    else:\n",
    "        print(integer2,\"is smallest\") # means integer1=integer3\n",
    "elif integer2>integer3:\n",
    "    if integer1>integer3:\n",
    "        print(integer3,\"is smallest\")\n",
    "    elif integer3>integer1:\n",
    "        print(integer1,\"is smallest\") # means integer1=integer2\n",
    "    else:\n",
    "        print(integer3,\"is smallest\")\n",
    "else: # means integer2=integer3\n",
    "    if integer1>integer2:\n",
    "        print(integer2,\"is smallest\")\n",
    "    elif integer2>integer1:\n",
    "        print(integer1,\"is smallest\")\n",
    "    else:\n",
    "        print(\"all are equal\") # only condition left is that they all are equal"
   ]
  }
 ],
 "metadata": {
  "kernelspec": {
   "display_name": "Python 3",
   "language": "python",
   "name": "python3"
  },
  "language_info": {
   "codemirror_mode": {
    "name": "ipython",
    "version": 3
   },
   "file_extension": ".py",
   "mimetype": "text/x-python",
   "name": "python",
   "nbconvert_exporter": "python",
   "pygments_lexer": "ipython3",
   "version": "3.11.4"
  }
 },
 "nbformat": 4,
 "nbformat_minor": 2
}
