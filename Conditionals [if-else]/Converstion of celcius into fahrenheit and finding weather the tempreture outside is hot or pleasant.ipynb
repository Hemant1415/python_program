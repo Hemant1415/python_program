{
 "cells": [
  {
   "cell_type": "markdown",
   "metadata": {},
   "source": [
    "GIVEN A TMEPRETURE IN CELCIUS CONVERT IT TI FAHRENHEIT USING THE FORMULA F=(C*1.8)+32. IF THE TEMPRETURE IS ABOVE 90F, PRINT \"IT'S HOT OUTSIDE!\" OTHERWISE, PRINT \"THE TEMPRETURE IS PLEASANT\"."
   ]
  },
  {
   "cell_type": "code",
   "execution_count": 2,
   "metadata": {},
   "outputs": [
    {
     "name": "stdout",
     "output_type": "stream",
     "text": [
      "The tempreture is pleasant\n"
     ]
    }
   ],
   "source": [
    "celsius=float(input(\"provide the tempreture outside in celsius\"))  # taking tempreture in celsius\n",
    "\n",
    "fahrenheit=(celsius*1.8)+32  # converting celsius into fahrenheit\n",
    "\n",
    "if fahrenheit>90: # applying condition\n",
    "    print(\"It's hot outside!\") # tempreture is hot\n",
    "else:\n",
    "    print(\"The tempreture is pleasant\") # tempreture is pleasant"
   ]
  }
 ],
 "metadata": {
  "kernelspec": {
   "display_name": "Python 3",
   "language": "python",
   "name": "python3"
  },
  "language_info": {
   "codemirror_mode": {
    "name": "ipython",
    "version": 3
   },
   "file_extension": ".py",
   "mimetype": "text/x-python",
   "name": "python",
   "nbconvert_exporter": "python",
   "pygments_lexer": "ipython3",
   "version": "3.11.4"
  }
 },
 "nbformat": 4,
 "nbformat_minor": 2
}
