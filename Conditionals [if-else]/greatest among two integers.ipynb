{
 "cells": [
  {
   "cell_type": "markdown",
   "metadata": {},
   "source": [
    "FINDING GREATEST AMONG TWO INTEGERS"
   ]
  },
  {
   "cell_type": "code",
   "execution_count": 3,
   "metadata": {},
   "outputs": [
    {
     "name": "stdout",
     "output_type": "stream",
     "text": [
      "6 is greater than 0\n"
     ]
    }
   ],
   "source": [
    "integer1=int(input(\"enter an integer\"))\n",
    "integer2=int(input(\"enter another integer\"))  # taking input\n",
    "\n",
    "if integer1==integer2:  # appling condition for equality\n",
    "    print(\"both integers are equal\")\n",
    "elif integer1>integer2: # condition for integer1 greater than integer2\n",
    "    print(integer1 ,\"is greater than\",integer2)\n",
    "else:\n",
    "    print(integer2,\"is greater than\",integer1) # only situation left"
   ]
  }
 ],
 "metadata": {
  "kernelspec": {
   "display_name": "Python 3",
   "language": "python",
   "name": "python3"
  },
  "language_info": {
   "codemirror_mode": {
    "name": "ipython",
    "version": 3
   },
   "file_extension": ".py",
   "mimetype": "text/x-python",
   "name": "python",
   "nbconvert_exporter": "python",
   "pygments_lexer": "ipython3",
   "version": "3.11.4"
  }
 },
 "nbformat": 4,
 "nbformat_minor": 2
}
