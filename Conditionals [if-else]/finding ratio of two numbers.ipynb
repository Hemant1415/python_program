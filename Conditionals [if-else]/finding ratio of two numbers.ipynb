{
 "cells": [
  {
   "cell_type": "markdown",
   "metadata": {},
   "source": [
    "GIVEN TWO NUMBERS a,b. FIND a/b WHERE b CAN BE ZERO"
   ]
  },
  {
   "cell_type": "code",
   "execution_count": 1,
   "metadata": {},
   "outputs": [
    {
     "name": "stdout",
     "output_type": "stream",
     "text": [
      "we cannot divide a number by zero\n"
     ]
    }
   ],
   "source": [
    "a=float(input(\"enter a number\"))\n",
    "b=float(input(\"enter another number\")) # taking input from user\n",
    "\n",
    "\n",
    "if b==0:\n",
    "    print(\"we cannot divide a number by zero\")  # divisibility by zero is not defined\n",
    "else:\n",
    "    ratio=a/b # taking ratio of the two numbers\n",
    "    print(a,\"ratio\",b,\"is equal to:\",ratio) # thus we get ratio of two numbers"
   ]
  }
 ],
 "metadata": {
  "kernelspec": {
   "display_name": "Python 3",
   "language": "python",
   "name": "python3"
  },
  "language_info": {
   "codemirror_mode": {
    "name": "ipython",
    "version": 3
   },
   "file_extension": ".py",
   "mimetype": "text/x-python",
   "name": "python",
   "nbconvert_exporter": "python",
   "pygments_lexer": "ipython3",
   "version": "3.11.4"
  }
 },
 "nbformat": 4,
 "nbformat_minor": 2
}
