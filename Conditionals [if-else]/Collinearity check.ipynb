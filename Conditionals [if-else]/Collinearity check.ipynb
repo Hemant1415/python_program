{
 "cells": [
  {
   "cell_type": "markdown",
   "metadata": {},
   "source": [
    "GIVEN THREE POINTS CHECK WEATHER THEY ARE COLLINEAR OR NOT"
   ]
  },
  {
   "cell_type": "code",
   "execution_count": 8,
   "metadata": {},
   "outputs": [
    {
     "name": "stdout",
     "output_type": "stream",
     "text": [
      "you enter same points\n"
     ]
    }
   ],
   "source": [
    "x1,y1=float(input(\"enter x coordinate of first point\")),float(input(\"enter y coordinate of first point\"))\n",
    "x2,y2=float(input(\"enter x coordinate of second point\")),float(input(\"enter y coordinate of second point\"))\n",
    "x3,y3=float(input(\"enter x coordinate of third point\")),float(input(\"enter y coordinate of third point\"))  # taking information from the user\n",
    "\n",
    "\n",
    "# condition for collinearity  det([x1,y1,1\n",
    "#                                  x2,y2,1\n",
    "#                                  x3,y3,1])=0:  OR x1(y2-y3)+y1(x3-x2)+(x2*y3-x3*y2)=0:\n",
    "\n",
    "if x1==x2==x3 and y1==y2==y3:\n",
    "    print(\"you enter same points\")\n",
    "else:\n",
    "    if x1*(y2-y3)+y1*(x3-x2)+((x2*y3)-(x3*y2))==0: # appling condition for collinearity\n",
    "       print(\"points are collinear\") #points are collinear\n",
    "    else:\n",
    "        print(\"points are none collinear\") #points are none collinear"
   ]
  },
  {
   "cell_type": "code",
   "execution_count": null,
   "metadata": {},
   "outputs": [],
   "source": []
  }
 ],
 "metadata": {
  "kernelspec": {
   "display_name": "Python 3",
   "language": "python",
   "name": "python3"
  },
  "language_info": {
   "codemirror_mode": {
    "name": "ipython",
    "version": 3
   },
   "file_extension": ".py",
   "mimetype": "text/x-python",
   "name": "python",
   "nbconvert_exporter": "python",
   "pygments_lexer": "ipython3",
   "version": "3.11.4"
  }
 },
 "nbformat": 4,
 "nbformat_minor": 2
}
