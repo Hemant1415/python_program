{
 "cells": [
  {
   "cell_type": "markdown",
   "metadata": {},
   "source": [
    "GIVEN A QUADRATIC EQUATION WITH COEFFICIENTS a,b andc, FIND THE TWO SOLUTION.(SOLUTION MY BE REAL OR COMPLEX). YOU SHOULD NOT TAKE SQUARE OF NEGETIVE NUMBER IN YOUR CODE"
   ]
  },
  {
   "cell_type": "code",
   "execution_count": null,
   "metadata": {},
   "outputs": [],
   "source": [
    "a,b,c=float(input(\"enter coefficient of x^2\")),float(input(\"enter coefficient of x\")),float(input(\"enter the constant in quadratic equation\"))\n",
    "# taking information of the quadratic equation\n",
    "\n",
    "print(a,\"x^2 +\",b,\"x +\",c,\" is your quadratic equation\") # the quadratic eqaution\n",
    "discriminant=(b**2)-(4*a*c)\n",
    "if discriminant>=0: #real roots exsist\n",
    "    \n",
    "    root1=((-b)+(discriminant)**(1/2))/(4*a) \n",
    "    root2=((-b)-(discriminant)**(1/2))/(4*a)  # quadratic formula\n",
    "    \n",
    "    print(\"The roots of the equation is:\",root1 ,root2)\n",
    "else: # complex roots exsist\n",
    "    print(\"complex roots exsist\")\n",
    "    \n",
    "    imaginary_part=(discriminant)**(1/2)/(4*a)\n",
    "    real_part=(-b)/(4*a)\n",
    "    print(\"The roots of the equation are:\",real_part,\"+i\",imaginary_part,\" and \",real_part,\"+i\",imaginary_part) #the complex roots"
   ]
  }
 ],
 "metadata": {
  "kernelspec": {
   "display_name": "Python 3",
   "language": "python",
   "name": "python3"
  },
  "language_info": {
   "codemirror_mode": {
    "name": "ipython",
    "version": 3
   },
   "file_extension": ".py",
   "mimetype": "text/x-python",
   "name": "python",
   "nbconvert_exporter": "python",
   "pygments_lexer": "ipython3",
   "version": "3.11.4"
  }
 },
 "nbformat": 4,
 "nbformat_minor": 2
}
