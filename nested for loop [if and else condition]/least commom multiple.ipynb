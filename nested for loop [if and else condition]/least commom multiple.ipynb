{
 "cells": [
  {
   "cell_type": "markdown",
   "metadata": {},
   "source": [
    "GIVEN TWO POSITIVE INTEGER FIND THEIR LEAST COMMON MULTIPLE"
   ]
  },
  {
   "cell_type": "code",
   "execution_count": 7,
   "metadata": {},
   "outputs": [
    {
     "name": "stdout",
     "output_type": "stream",
     "text": [
      "least common multiple of -5 and -6 is: 30.0\n"
     ]
    }
   ],
   "source": [
    "int1=int(input(\"enter a positive integer\"))\n",
    "int2=int(input(\"enter another positive integer\")) # taking input from user\n",
    "list2=[] # creating an empty list\n",
    "\n",
    "if int1==int2:\n",
    "    print(\"leat common multiple of \",int1,int2,\"is:\",int1)\n",
    "else:\n",
    "    if int1>int2:\n",
    "       for i in range(2,(int2)+1): # using int2 to reduce work \n",
    "        if int1%i==0 and int2%i==0: # finding common factors of int1 and int2\n",
    "            list2.append(i) # appending common factors\n",
    "    else:\n",
    "        for i in range(2,(int1)+1): # using int1 to reduce work\n",
    "           if int1%i==0 and int2%i==0: # finding common factors of int1 and int2\n",
    "              list2.append(i) # appending common factors\n",
    "\n",
    "    hcf=1\n",
    "    for i in list2: # finding maximum number in list2\n",
    "      if i>hcf:\n",
    "        hcf=i\n",
    "    least_common_multiple=(int1*int2)/(hcf) # hcf is maximum number in in least and also highest common factor of int1 and int2\n",
    "    print(\"least common multiple of\",int1,\"and\",int2,\"is:\",least_common_multiple)"
   ]
  },
  {
   "cell_type": "code",
   "execution_count": null,
   "metadata": {},
   "outputs": [],
   "source": []
  }
 ],
 "metadata": {
  "kernelspec": {
   "display_name": "Python 3",
   "language": "python",
   "name": "python3"
  },
  "language_info": {
   "codemirror_mode": {
    "name": "ipython",
    "version": 3
   },
   "file_extension": ".py",
   "mimetype": "text/x-python",
   "name": "python",
   "nbconvert_exporter": "python",
   "pygments_lexer": "ipython3",
   "version": "3.11.4"
  }
 },
 "nbformat": 4,
 "nbformat_minor": 2
}
