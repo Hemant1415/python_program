{
 "cells": [
  {
   "cell_type": "markdown",
   "metadata": {},
   "source": [
    "GIVEN A LIST OF POSITIVE INTEGERS FIND THE FACTORIAL OF EACH POSITIVE INTEGERS"
   ]
  },
  {
   "cell_type": "code",
   "execution_count": 5,
   "metadata": {},
   "outputs": [
    {
     "name": "stdout",
     "output_type": "stream",
     "text": [
      "factorial of a number in the list: [1, 2, 3, 4, 5, 3, 6, 7, 8, 10] is: [1, 2, 6, 24, 120, 6, 720, 5040, 40320, 3628800] respectively\n"
     ]
    }
   ],
   "source": [
    "given_list=[1,2,3,4,5,3,6,7,8,10] # an arbitery list of positive integers\n",
    "\n",
    "list2=[] # creating an empty list for appending factorial\n",
    "for i in given_list:\n",
    "    if i>1:\n",
    "        factorial=1 # this should be inside the for loop because it need to 1 after each element \n",
    "        for i in range(2,i+1):\n",
    "            factorial=factorial*i # idea to find factorial\n",
    "        list2.append(factorial)\n",
    "    else:\n",
    "        list2.append(1) # for 1 as 1 factorial is 1 \n",
    "print(\"factorial of a number in the list:\",given_list,\"is:\",list2,\"respectively\")"
   ]
  },
  {
   "cell_type": "code",
   "execution_count": null,
   "metadata": {},
   "outputs": [],
   "source": []
  }
 ],
 "metadata": {
  "kernelspec": {
   "display_name": "Python 3",
   "language": "python",
   "name": "python3"
  },
  "language_info": {
   "codemirror_mode": {
    "name": "ipython",
    "version": 3
   },
   "file_extension": ".py",
   "mimetype": "text/x-python",
   "name": "python",
   "nbconvert_exporter": "python",
   "pygments_lexer": "ipython3",
   "version": "3.11.4"
  }
 },
 "nbformat": 4,
 "nbformat_minor": 2
}
