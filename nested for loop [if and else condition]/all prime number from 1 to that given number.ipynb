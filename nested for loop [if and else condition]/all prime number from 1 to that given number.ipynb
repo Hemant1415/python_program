{
 "cells": [
  {
   "cell_type": "markdown",
   "metadata": {},
   "source": [
    "GIVEN A POSITIVE INTEGER, PRINT ALL PRIME NUMBER FROM 1 TO THAT NUMBER"
   ]
  },
  {
   "cell_type": "code",
   "execution_count": 6,
   "metadata": {},
   "outputs": [
    {
     "name": "stdout",
     "output_type": "stream",
     "text": [
      "all the prime number from 1 to 23 is/are: [2, 3, 5, 7, 11, 13, 17, 19, 23]\n"
     ]
    }
   ],
   "source": [
    "pos_int=int(input(\"enter a positive integer\"))\n",
    "list2=[]\n",
    "if pos_int>1: # working only for integer greater than 1\n",
    "    for i in range(2,pos_int+1):\n",
    "        b=int((i)**(1/2)+1) # for cheacking\n",
    "        factor=0\n",
    "        for x in range(2,b): # b is used to reduce work\n",
    "            if i%x==0:\n",
    "                factor=1\n",
    "        if factor==0: # no factor found\n",
    "            list2.append(i)\n",
    "    print(\"all the prime number from 1 to\",pos_int,\"is/are:\",list2)\n",
    "else: # other integers\n",
    "    print(\"no prime number available\")"
   ]
  }
 ],
 "metadata": {
  "kernelspec": {
   "display_name": "Python 3",
   "language": "python",
   "name": "python3"
  },
  "language_info": {
   "codemirror_mode": {
    "name": "ipython",
    "version": 3
   },
   "file_extension": ".py",
   "mimetype": "text/x-python",
   "name": "python",
   "nbconvert_exporter": "python",
   "pygments_lexer": "ipython3",
   "version": "3.11.4"
  }
 },
 "nbformat": 4,
 "nbformat_minor": 2
}
