{
 "cells": [
  {
   "cell_type": "markdown",
   "metadata": {},
   "source": [
    "GIVEN A POSITIVE INTEGER FIND SUM OF ALL PRIME NUMBER FROM 1 TO THAT NUMBER\n"
   ]
  },
  {
   "cell_type": "code",
   "execution_count": 5,
   "metadata": {},
   "outputs": [
    {
     "name": "stdout",
     "output_type": "stream",
     "text": [
      "summation of all prime numbers from 1 to 12 is 28\n"
     ]
    }
   ],
   "source": [
    "pos_int=int(input(\"enter a positive integer\"))\n",
    "list2=[]\n",
    "if pos_int>1: # working only for integer greater than 1\n",
    "    for i in range(2,pos_int+1):\n",
    "        b=int((i)**(1/2)+1) # for cheacking\n",
    "        factor=0\n",
    "        for x in range(2,b): # b is used to reduce work\n",
    "            if i%x==0:\n",
    "                factor=1\n",
    "        if factor==0: # no factor found\n",
    "            list2.append(i)\n",
    "    add=0\n",
    "    for i in list2:\n",
    "        add=add+i # finding sum\n",
    "    print(\"summation of all prime numbers from 1 to\",pos_int,\"is\",add)\n",
    "else: # other integers\n",
    "    print(\"no prime number available\")"
   ]
  }
 ],
 "metadata": {
  "kernelspec": {
   "display_name": "Python 3",
   "language": "python",
   "name": "python3"
  },
  "language_info": {
   "codemirror_mode": {
    "name": "ipython",
    "version": 3
   },
   "file_extension": ".py",
   "mimetype": "text/x-python",
   "name": "python",
   "nbconvert_exporter": "python",
   "pygments_lexer": "ipython3",
   "version": "3.11.4"
  }
 },
 "nbformat": 4,
 "nbformat_minor": 2
}
