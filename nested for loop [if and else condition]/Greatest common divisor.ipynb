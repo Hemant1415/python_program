{
 "cells": [
  {
   "cell_type": "markdown",
   "metadata": {},
   "source": [
    "GIVEN TWO POSITIVE INTEGERS FIND THEIR GREATEST COMMON DIVISOR"
   ]
  },
  {
   "cell_type": "code",
   "execution_count": null,
   "metadata": {},
   "outputs": [],
   "source": [
    "int1=int(input(\"enter a positive integer\"))\n",
    "int2=int(input(\"enter another positive integer\")) # taking input from user\n",
    "list2=[] # creating an empty list\n",
    "\n",
    "if int1==int2:\n",
    "    print(\"greatest common divisor of \",int1,int2,\"is:\",int1)\n",
    "else:\n",
    "    if int1>int2: # reducing work\n",
    "        for i in range(1,int2+1):\n",
    "            if int1%i==0 and int2%i==0: # finding common divisor\n",
    "                list2.append(i) # appending common divisor\n",
    "    else: # reducing work\n",
    "        for i in range(1,int1+1): # finding common divisor\n",
    "            if int1%i==0 and int2%i==0:\n",
    "                list2.append(i) # appending common divisor\n",
    "    greatest_common_divisor=max(list2) # maximum number in list2 is greatest common divisor\n",
    "    print(\"greatest common divisor of \",int1,\"and\",int2,\"is:\",greatest_common_divisor)"
   ]
  }
 ],
 "metadata": {
  "kernelspec": {
   "display_name": "Python 3",
   "language": "python",
   "name": "python3"
  },
  "language_info": {
   "codemirror_mode": {
    "name": "ipython",
    "version": 3
   },
   "file_extension": ".py",
   "mimetype": "text/x-python",
   "name": "python",
   "nbconvert_exporter": "python",
   "pygments_lexer": "ipython3",
   "version": "3.11.4"
  }
 },
 "nbformat": 4,
 "nbformat_minor": 2
}
