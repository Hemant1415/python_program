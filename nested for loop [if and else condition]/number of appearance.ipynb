{
 "cells": [
  {
   "cell_type": "markdown",
   "metadata": {},
   "source": [
    "GIVEN A LIST, FIND HOW MANY TIME A NUMBER APPEARS IN THE LIST"
   ]
  },
  {
   "cell_type": "code",
   "execution_count": 8,
   "metadata": {},
   "outputs": [
    {
     "name": "stdout",
     "output_type": "stream",
     "text": [
      "1 appears 3 times in the list\n",
      "2 appears 4 times in the list\n",
      "3 appears 3 times in the list\n",
      "4 appears 6 times in the list\n",
      "5 appears 4 times in the list\n",
      "6 appears 4 times in the list\n",
      "7 appears 2 times in the list\n",
      "8 appears 1 times in the list\n"
     ]
    }
   ],
   "source": [
    "given_list=[1,2,3,4,5,6,4,3,4,6,7,8,7,6,5,3,2,1,2,4,5,6,4,2,1,4,5]\n",
    "list2=[]\n",
    "for i in given_list: # creating list of unique elements in given_list\n",
    "    if i not in list2:\n",
    "        list2.append(i)\n",
    "\n",
    "for i in list2:\n",
    "    count=0\n",
    "    for x in given_list:\n",
    "        if x==i:\n",
    "            count=count+1\n",
    "    print(i,\"appears\",count,\"times in the list\")"
   ]
  }
 ],
 "metadata": {
  "kernelspec": {
   "display_name": "Python 3",
   "language": "python",
   "name": "python3"
  },
  "language_info": {
   "codemirror_mode": {
    "name": "ipython",
    "version": 3
   },
   "file_extension": ".py",
   "mimetype": "text/x-python",
   "name": "python",
   "nbconvert_exporter": "python",
   "pygments_lexer": "ipython3",
   "version": "3.11.4"
  }
 },
 "nbformat": 4,
 "nbformat_minor": 2
}
