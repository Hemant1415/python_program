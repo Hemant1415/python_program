{
 "cells": [
  {
   "cell_type": "markdown",
   "metadata": {},
   "source": [
    "GIVEN TWO 3X3 MATRIX IN FORM OF LIST OF LENGTH 9. FIND THEIR PRODUCT"
   ]
  },
  {
   "cell_type": "code",
   "execution_count": null,
   "metadata": {},
   "outputs": [],
   "source": [
    "matrix1=[1,2,3,4,5,6,7,8,9]\n",
    "matrix2=[9,8,7,6,5,4,3,2,1] # matrices for multiplication\n",
    "\n",
    "# finding matrix1 x matrix2\n",
    "\n",
    "matrix_prod=matrix"
   ]
  }
 ],
 "metadata": {
  "kernelspec": {
   "display_name": "Python 3",
   "language": "python",
   "name": "python3"
  },
  "language_info": {
   "name": "python",
   "version": "3.11.4"
  }
 },
 "nbformat": 4,
 "nbformat_minor": 2
}
