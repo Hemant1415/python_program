{
 "cells": [
  {
   "cell_type": "markdown",
   "metadata": {},
   "source": [
    "GIVEN A LIST OF INTEGERS FIND PAIR OF INTEGERS IN LIST WHOSE SUM IS ZERO"
   ]
  },
  {
   "cell_type": "code",
   "execution_count": 10,
   "metadata": {},
   "outputs": [
    {
     "name": "stdout",
     "output_type": "stream",
     "text": [
      "[[1, -1], [2, -2], [3, -3], [4, -4], [0, 0]] are the pairs of integers in given list whose sum is zero\n"
     ]
    }
   ],
   "source": [
    "list_int=[1,2,3,1,2,3,-1,-2,-3,-4,4,5,0,0]\n",
    "list2=[]\n",
    "list3=[]\n",
    "count=0\n",
    "for i in list_int:\n",
    "    if i>0:\n",
    "        if i not in list2:\n",
    "            list2.append(i)\n",
    "    elif i==0:\n",
    "        count=count+1\n",
    "for i in list2:\n",
    "    for x in list_int:\n",
    "        if i+x==0:\n",
    "            list3.append([i,x])\n",
    "if count>1:\n",
    "    list3.append([0,0])\n",
    "print(list3,\"are the pairs of integers in given list whose sum is zero\")"
   ]
  }
 ],
 "metadata": {
  "kernelspec": {
   "display_name": "Python 3",
   "language": "python",
   "name": "python3"
  },
  "language_info": {
   "codemirror_mode": {
    "name": "ipython",
    "version": 3
   },
   "file_extension": ".py",
   "mimetype": "text/x-python",
   "name": "python",
   "nbconvert_exporter": "python",
   "pygments_lexer": "ipython3",
   "version": "3.11.4"
  }
 },
 "nbformat": 4,
 "nbformat_minor": 2
}
