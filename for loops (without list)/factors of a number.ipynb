{
 "cells": [
  {
   "cell_type": "markdown",
   "metadata": {},
   "source": [
    "Given a positive integer find all its factors"
   ]
  },
  {
   "cell_type": "code",
   "execution_count": 4,
   "metadata": {},
   "outputs": [
    {
     "name": "stdout",
     "output_type": "stream",
     "text": [
      "divisors of number: 6 are: [1, 6, 3.0]\n"
     ]
    }
   ],
   "source": [
    "pos_int=int(input(\"enter a positive integer\")) # given positive integer\n",
    "list_fact=[1,pos_int] # 1, the integer are already the factors\n",
    "root=int((pos_int**0.5)) # needonly to check till the square root\n",
    "for i in range(2,root+1):\n",
    "    if pos_int%i==0:\n",
    "        list_fact.append(i)\n",
    "        list_fact.append(pos_int/i)# append both the divisior and quitiont i.e. 2,50 are divisior for 100\n",
    "list_fact.remove(root)\n",
    "print(\"divisors of number:\",pos_int,\"are:\",list_fact) #result"
   ]
  }
 ],
 "metadata": {
  "kernelspec": {
   "display_name": "Python 3",
   "language": "python",
   "name": "python3"
  },
  "language_info": {
   "codemirror_mode": {
    "name": "ipython",
    "version": 3
   },
   "file_extension": ".py",
   "mimetype": "text/x-python",
   "name": "python",
   "nbconvert_exporter": "python",
   "pygments_lexer": "ipython3",
   "version": "3.11.4"
  }
 },
 "nbformat": 4,
 "nbformat_minor": 2
}
