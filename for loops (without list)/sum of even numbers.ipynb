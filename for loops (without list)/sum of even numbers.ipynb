{
 "cells": [
  {
   "cell_type": "markdown",
   "metadata": {},
   "source": [
    "GIVEN A POSITVE INTEGER FIND SUM OF ALL EVEN INTEGERS FROM 2 TO THAT NUMBER"
   ]
  },
  {
   "cell_type": "code",
   "execution_count": null,
   "metadata": {},
   "outputs": [],
   "source": [
    "pos_int=int(input(\"enter a positive integer\")) # taking input\n",
    "\n",
    "\n",
    "if pos_int>0: # working for positive integers\n",
    "    addition=0\n",
    "    for i in range(2,pos_int+1,2): # 2 for jumping two numbers\n",
    "        addition=addition+i  # idea for solvu=ing the question\n",
    "    print(\"sum of all even integer from 2 to \",pos_int,\"is:\",addition)\n",
    "else: # avoiding invalid input\n",
    "    print(\"invalid input\")"
   ]
  }
 ],
 "metadata": {
  "kernelspec": {
   "display_name": "Python 3",
   "language": "python",
   "name": "python3"
  },
  "language_info": {
   "codemirror_mode": {
    "name": "ipython",
    "version": 3
   },
   "file_extension": ".py",
   "mimetype": "text/x-python",
   "name": "python",
   "nbconvert_exporter": "python",
   "pygments_lexer": "ipython3",
   "version": "3.11.4"
  }
 },
 "nbformat": 4,
 "nbformat_minor": 2
}
