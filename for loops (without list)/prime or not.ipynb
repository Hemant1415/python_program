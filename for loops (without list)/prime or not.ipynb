{
 "cells": [
  {
   "cell_type": "markdown",
   "metadata": {},
   "source": [
    "GIVEN A POSITIVE INTEGER FIND IT IS PRIME OR NOT"
   ]
  },
  {
   "cell_type": "code",
   "execution_count": 15,
   "metadata": {},
   "outputs": [
    {
     "name": "stdout",
     "output_type": "stream",
     "text": [
      "3 is prime number\n"
     ]
    }
   ],
   "source": [
    "pos_int=int(input(\"enter positive integer\")) # taking input from user\n",
    "\n",
    "if pos_int<2: # integer less than 2 are not prime because by defination 0,1 are not prime and prime numbers are defined only for positive integer so we don't need to think about negetive integers\n",
    "    print(\"it is not a prime\")\n",
    "else:\n",
    "    factor=0\n",
    "    root=int((pos_int)**(1/2)+1)\n",
    "    for i in range(2,root+1):\n",
    "        if pos_int%i==0:\n",
    "            factor=factor+1\n",
    "    if factor==0: # no factor of that number found other than 1 and itself\n",
    "        print(pos_int,\"is prime number\")\n",
    "    else: # atleast one factor found other than 1 and itself\n",
    "        print(pos_int,\"is not a prime number\")"
   ]
  }
 ],
 "metadata": {
  "kernelspec": {
   "display_name": "Python 3",
   "language": "python",
   "name": "python3"
  },
  "language_info": {
   "codemirror_mode": {
    "name": "ipython",
    "version": 3
   },
   "file_extension": ".py",
   "mimetype": "text/x-python",
   "name": "python",
   "nbconvert_exporter": "python",
   "pygments_lexer": "ipython3",
   "version": "3.11.4"
  }
 },
 "nbformat": 4,
 "nbformat_minor": 2
}
