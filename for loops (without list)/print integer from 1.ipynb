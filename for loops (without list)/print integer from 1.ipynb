{
 "cells": [
  {
   "cell_type": "markdown",
   "metadata": {},
   "source": [
    "GIVEN A INTEFGER PRINT INTERGERS FROM 1 TO THAT INTEGERS"
   ]
  },
  {
   "cell_type": "code",
   "execution_count": null,
   "metadata": {},
   "outputs": [],
   "source": [
    "integer=int(input(\"enter a positive integer\")) # taking input from user\n",
    "\n",
    "if integer<=0: # avoiding invalid input\n",
    "    print(\"invalid input\")\n",
    "else: # only possible input is integer>0\n",
    "    for i in range(1,integer+1):  # from 1 to integer+1 because we also want to print the integer\n",
    "        print(i)"
   ]
  }
 ],
 "metadata": {
  "kernelspec": {
   "display_name": "Python 3",
   "language": "python",
   "name": "python3"
  },
  "language_info": {
   "codemirror_mode": {
    "name": "ipython",
    "version": 3
   },
   "file_extension": ".py",
   "mimetype": "text/x-python",
   "name": "python",
   "nbconvert_exporter": "python",
   "pygments_lexer": "ipython3",
   "version": "3.11.4"
  }
 },
 "nbformat": 4,
 "nbformat_minor": 2
}
