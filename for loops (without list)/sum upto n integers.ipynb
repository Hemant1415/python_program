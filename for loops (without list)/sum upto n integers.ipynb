{
 "cells": [
  {
   "cell_type": "markdown",
   "metadata": {},
   "source": [
    "GIVEN A INTEGER PRINT SUM OF ALL INTEGERS FROM 1 TO THAT INTEGERS"
   ]
  },
  {
   "cell_type": "code",
   "execution_count": null,
   "metadata": {},
   "outputs": [],
   "source": [
    "integer=int(input(\"enter positive integer\")) # taking input\n",
    "\n",
    "if integer<=0: # avoiding invalid input\n",
    "    print(\"invalid input\")\n",
    "else:\n",
    "    addition=0\n",
    "    for i in range(1,integer+1): #applying for loop for addition\n",
    "        addition=addition+i \n",
    "    print(addition,\"is the sum of integers\")"
   ]
  }
 ],
 "metadata": {
  "kernelspec": {
   "display_name": "Python 3",
   "language": "python",
   "name": "python3"
  },
  "language_info": {
   "name": "python",
   "version": "3.11.4"
  }
 },
 "nbformat": 4,
 "nbformat_minor": 2
}
