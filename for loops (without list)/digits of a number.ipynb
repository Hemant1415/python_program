{
 "cells": [
  {
   "cell_type": "markdown",
   "metadata": {},
   "source": [
    "GIVEN A POSITIVE INTEGER, PRINT ITS DIGIT WITHOUT CONVERTING IT INTO STRING"
   ]
  },
  {
   "cell_type": "code",
   "execution_count": null,
   "metadata": {},
   "outputs": [],
   "source": [
    "pos_int=int(input(\"enter a positive integer\")) # taking input\n",
    "num1=pos_int\n",
    "if pos_int>0: # working only for positive integer\n",
    "   rem"
   ]
  }
 ],
 "metadata": {
  "kernelspec": {
   "display_name": "Python 3",
   "language": "python",
   "name": "python3"
  },
  "language_info": {
   "name": "python",
   "version": "3.11.4"
  }
 },
 "nbformat": 4,
 "nbformat_minor": 2
}
