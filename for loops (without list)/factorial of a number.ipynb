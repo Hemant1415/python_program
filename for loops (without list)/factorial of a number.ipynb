{
 "cells": [
  {
   "cell_type": "markdown",
   "metadata": {},
   "source": [
    "GIVEN A POSITIVE INTEGER FIND ITS FACTIRIAL"
   ]
  },
  {
   "cell_type": "code",
   "execution_count": 2,
   "metadata": {},
   "outputs": [
    {
     "name": "stdout",
     "output_type": "stream",
     "text": [
      "1\n"
     ]
    }
   ],
   "source": [
    "integer=int(input(\"enter a positive integer\")) # taking input\n",
    "\n",
    "\n",
    "if integer<0: # avoiding invalid input\n",
    "    print(\"invalid input\")\n",
    "elif integer>1:\n",
    "    factorial=1\n",
    "    for i in range(2,integer+1):\n",
    "        factorial=factorial*i # idea to find factorial\n",
    "    print(integer,\" factorial is equal to:\",factorial)\n",
    "else: # factorial of 0 and 1 is 1\n",
    "    print(1)"
   ]
  }
 ],
 "metadata": {
  "kernelspec": {
   "display_name": "Python 3",
   "language": "python",
   "name": "python3"
  },
  "language_info": {
   "codemirror_mode": {
    "name": "ipython",
    "version": 3
   },
   "file_extension": ".py",
   "mimetype": "text/x-python",
   "name": "python",
   "nbconvert_exporter": "python",
   "pygments_lexer": "ipython3",
   "version": "3.11.4"
  }
 },
 "nbformat": 4,
 "nbformat_minor": 2
}
