{
 "cells": [
  {
   "cell_type": "markdown",
   "metadata": {},
   "source": [
    "GIVEN A INTEGERS FIND SUM ALL ODD NUMBERS FROM 1 TO THAT NUMBER"
   ]
  },
  {
   "cell_type": "code",
   "execution_count": 2,
   "metadata": {},
   "outputs": [
    {
     "name": "stdout",
     "output_type": "stream",
     "text": [
      "the sum of all ODD integers form 1 to  6 is: 9\n"
     ]
    }
   ],
   "source": [
    "pos_int=int(input(\"enter a odd integer\")) # taking input\n",
    "\n",
    "if pos_int>0 : # working only for POSITIVE integers\n",
    "    addition=0\n",
    "    for i in range(1,pos_int+1,2): # 2 for jumping two numbers next \n",
    "        addition=addition+i # idea to find sum\n",
    "    print(\"the sum of all ODD integers form 1 to \",pos_int,\"is:\",addition)\n",
    "else: # avoiding invalid input\n",
    "    print(\"invalid input\")"
   ]
  }
 ],
 "metadata": {
  "kernelspec": {
   "display_name": "Python 3",
   "language": "python",
   "name": "python3"
  },
  "language_info": {
   "codemirror_mode": {
    "name": "ipython",
    "version": 3
   },
   "file_extension": ".py",
   "mimetype": "text/x-python",
   "name": "python",
   "nbconvert_exporter": "python",
   "pygments_lexer": "ipython3",
   "version": "3.11.4"
  }
 },
 "nbformat": 4,
 "nbformat_minor": 2
}
