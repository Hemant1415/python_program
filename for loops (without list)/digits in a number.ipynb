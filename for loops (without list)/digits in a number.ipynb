{
 "cells": [
  {
   "cell_type": "markdown",
   "metadata": {},
   "source": [
    "Given a number print the digits in the number without converting it into a string"
   ]
  },
  {
   "cell_type": "code",
   "execution_count": 1,
   "metadata": {},
   "outputs": [
    {
     "name": "stdout",
     "output_type": "stream",
     "text": [
      "digit of number 123453 are: [1, 2, 3, 4, 5, 3]\n"
     ]
    }
   ],
   "source": [
    "given_no=int(input(\"enter a positive integer\"))\n",
    "no2=given_no\n",
    "list1=[]\n",
    "while no2>0:\n",
    "      digit=no2%10\n",
    "      no2=no2//10\n",
    "      list1.append(digit)\n",
    "list1=list1[::-1]\n",
    "print(\"digit of number\",given_no,\"are:\",list1)"
   ]
  }
 ],
 "metadata": {
  "kernelspec": {
   "display_name": "Python 3",
   "language": "python",
   "name": "python3"
  },
  "language_info": {
   "codemirror_mode": {
    "name": "ipython",
    "version": 3
   },
   "file_extension": ".py",
   "mimetype": "text/x-python",
   "name": "python",
   "nbconvert_exporter": "python",
   "pygments_lexer": "ipython3",
   "version": "3.11.4"
  }
 },
 "nbformat": 4,
 "nbformat_minor": 2
}
