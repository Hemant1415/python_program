{
 "cells": [
  {
   "cell_type": "markdown",
   "metadata": {},
   "source": [
    "GIVEN A LIST FIND SUM OF ALL NUMBERS IN THE LIST"
   ]
  },
  {
   "cell_type": "code",
   "execution_count": 2,
   "metadata": {},
   "outputs": [
    {
     "name": "stdout",
     "output_type": "stream",
     "text": [
      "sum of numbers in the list [1, 2, 3, 4, 3, 2, 4, 56, 7, 8, 4] is: 94\n"
     ]
    }
   ],
   "source": [
    "given_list=[1,2,3,4,3,2,4,56,7,8,4] # an arbitery list\n",
    "\n",
    "addition=0 # variable\n",
    "for i in given_list:\n",
    "    addition=addition+i # idea to find sum\n",
    "print(\"sum of numbers in the list\",given_list,\"is:\",addition) # for beauty of output"
   ]
  }
 ],
 "metadata": {
  "kernelspec": {
   "display_name": "Python 3",
   "language": "python",
   "name": "python3"
  },
  "language_info": {
   "codemirror_mode": {
    "name": "ipython",
    "version": 3
   },
   "file_extension": ".py",
   "mimetype": "text/x-python",
   "name": "python",
   "nbconvert_exporter": "python",
   "pygments_lexer": "ipython3",
   "version": "3.11.4"
  }
 },
 "nbformat": 4,
 "nbformat_minor": 2
}
