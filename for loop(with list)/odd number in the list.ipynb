{
 "cells": [
  {
   "cell_type": "markdown",
   "metadata": {},
   "source": [
    "GIVEM A LIST FIND ALL ODD NUMBERS IN THE LIST"
   ]
  },
  {
   "cell_type": "code",
   "execution_count": 1,
   "metadata": {},
   "outputs": [
    {
     "name": "stdout",
     "output_type": "stream",
     "text": [
      "odd numbers in the list  [1, 2, 3, 4, 55.6, 7, -9, 100] is: [1, 3, 7]\n"
     ]
    }
   ],
   "source": [
    "given_list=[1,2,3,4,55.6,7,-9,100] # an arbitery list\n",
    "list2=[] # taking an empty list\n",
    "\n",
    "\n",
    "for i in given_list:\n",
    "    if i>0 and i==int(i): # working only for positve integers\n",
    "        if i%2!=0: # condition for odd number\n",
    "            list2.append(i)\n",
    "\n",
    "print(\"odd numbers in the list \",given_list,\"is:\",list2)"
   ]
  }
 ],
 "metadata": {
  "kernelspec": {
   "display_name": "Python 3",
   "language": "python",
   "name": "python3"
  },
  "language_info": {
   "codemirror_mode": {
    "name": "ipython",
    "version": 3
   },
   "file_extension": ".py",
   "mimetype": "text/x-python",
   "name": "python",
   "nbconvert_exporter": "python",
   "pygments_lexer": "ipython3",
   "version": "3.11.4"
  }
 },
 "nbformat": 4,
 "nbformat_minor": 2
}
