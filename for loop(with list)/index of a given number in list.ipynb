{
 "cells": [
  {
   "cell_type": "markdown",
   "metadata": {},
   "source": [
    "GIVEN A LIST OF NUMBERS, FIND THE INDEX OF ANOTHER GIVEN NUMBER"
   ]
  },
  {
   "cell_type": "code",
   "execution_count": 9,
   "metadata": {},
   "outputs": [
    {
     "name": "stdout",
     "output_type": "stream",
     "text": [
      "100.0 is not in the list [1, 2, 4, 3, 5, 3, 6, 3, 5, 3, 4, 5, 3, 65, 9, 10, 8.9]\n"
     ]
    }
   ],
   "source": [
    "given_list=[1,2,4,3,5,3,6,3,5,3,4,5,3,65,9,10,8.9]\n",
    "another_no=float(input(\"enter a number\"))   # given list and another number\n",
    "list2=[] # for appending indexes if another_no appears multiple time\n",
    "len_list=0\n",
    "\n",
    "for i in given_list:\n",
    "    len_list=len_list+1 #calculating length of list\n",
    "\n",
    "for i in range(len_list):\n",
    "    if another_no==given_list[i]:\n",
    "        index=i\n",
    "        list2.append(i) # appending the indexes\n",
    "        count=1\n",
    "\n",
    "if count==1: # list2 have some elements\n",
    "    print(\"index of the given number\",another_no,\"in:\",given_list,\"is/are\",list2)\n",
    "else: # list2 doesn't have any element\n",
    "    print(another_no,\"is not in the list\",given_list)"
   ]
  }
 ],
 "metadata": {
  "kernelspec": {
   "display_name": "Python 3",
   "language": "python",
   "name": "python3"
  },
  "language_info": {
   "codemirror_mode": {
    "name": "ipython",
    "version": 3
   },
   "file_extension": ".py",
   "mimetype": "text/x-python",
   "name": "python",
   "nbconvert_exporter": "python",
   "pygments_lexer": "ipython3",
   "version": "3.11.4"
  }
 },
 "nbformat": 4,
 "nbformat_minor": 2
}
