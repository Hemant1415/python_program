{
 "cells": [
  {
   "cell_type": "markdown",
   "metadata": {},
   "source": [
    "GIVEN A LIST OF NUMBERS FIND ITS MEAN AND STANDARD DEVIATION"
   ]
  },
  {
   "cell_type": "code",
   "execution_count": 1,
   "metadata": {},
   "outputs": [
    {
     "name": "stdout",
     "output_type": "stream",
     "text": [
      "mean of the list  [1, 2, 3, 2, 4, 5, 6, 5, 4, 3, 5, 6, 6] is: 4.0\n",
      "standard deviation of the list is: 1.6172150801252798\n"
     ]
    }
   ],
   "source": [
    "given_list=[1,2,3,2,4,5,6,5,4,3,5,6,6] # an arbitery list\n",
    "\n",
    "len_list=0\n",
    "addition=0\n",
    "square=0\n",
    "for i in given_list:\n",
    "    len_list=len_list+1 # for length of list\n",
    "    addition=addition+i # for summation of elements in the list\n",
    "\n",
    "mean=addition/len_list  # mean = summation of elements/ number of element\n",
    "for i in given_list:\n",
    "    square=square+(i-mean)**2\n",
    "\n",
    "deviation= (square/len_list)**(1/2) # standard deviation is equal to (summation((element-mean)**2)/number of elements)**(1/2)\n",
    "\n",
    "\n",
    "print(\"mean of the list \",given_list,\"is:\",mean)\n",
    "print(\"standard deviation of the list is:\",deviation)"
   ]
  }
 ],
 "metadata": {
  "kernelspec": {
   "display_name": "Python 3",
   "language": "python",
   "name": "python3"
  },
  "language_info": {
   "codemirror_mode": {
    "name": "ipython",
    "version": 3
   },
   "file_extension": ".py",
   "mimetype": "text/x-python",
   "name": "python",
   "nbconvert_exporter": "python",
   "pygments_lexer": "ipython3",
   "version": "3.11.4"
  }
 },
 "nbformat": 4,
 "nbformat_minor": 2
}
