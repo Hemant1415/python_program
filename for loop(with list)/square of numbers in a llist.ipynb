{
 "cells": [
  {
   "cell_type": "markdown",
   "metadata": {},
   "source": [
    "GIVEN A LIST FIND SQUARE OF ALL NUMBERS IN THE LIST"
   ]
  },
  {
   "cell_type": "code",
   "execution_count": 7,
   "metadata": {},
   "outputs": [
    {
     "name": "stdout",
     "output_type": "stream",
     "text": [
      "1 **2 =  1\n",
      "2 **2 =  4\n",
      "3 **2 =  9\n",
      "4 **2 =  16\n",
      "5 **2 =  25\n",
      "0.8 **2 =  0.6400000000000001\n",
      "10 **2 =  100\n",
      "9.7 **2 =  94.08999999999999\n"
     ]
    }
   ],
   "source": [
    "given_list=[1,2,3,4,5,0.8,10,9.7,] # arbitery list\n",
    "\n",
    "for i in given_list:\n",
    "    square=i*i # idea for finding square\n",
    "    print(i,\"**2 = \",square) # for beauty of output"
   ]
  }
 ],
 "metadata": {
  "kernelspec": {
   "display_name": "Python 3",
   "language": "python",
   "name": "python3"
  },
  "language_info": {
   "codemirror_mode": {
    "name": "ipython",
    "version": 3
   },
   "file_extension": ".py",
   "mimetype": "text/x-python",
   "name": "python",
   "nbconvert_exporter": "python",
   "pygments_lexer": "ipython3",
   "version": "3.11.4"
  }
 },
 "nbformat": 4,
 "nbformat_minor": 2
}
