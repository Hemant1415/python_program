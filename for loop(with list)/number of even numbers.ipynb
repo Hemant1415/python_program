{
 "cells": [
  {
   "cell_type": "markdown",
   "metadata": {},
   "source": [
    "GIVEN A LIST FIND HOW MANY EVEN NUMBERS IT HAS"
   ]
  },
  {
   "cell_type": "code",
   "execution_count": 2,
   "metadata": {},
   "outputs": [
    {
     "name": "stdout",
     "output_type": "stream",
     "text": [
      "number of even numbers in the list: [1, 2, 3, 2, 3, 4, 0, -5, 9.6] is: 3\n"
     ]
    }
   ],
   "source": [
    "given_list=[1,2,3,2,3,4,0,-5,9.6] # an arbitery list\n",
    "count=0\n",
    "for i in given_list:\n",
    "    if i>0 and i==int(i): # working only for positive integers\n",
    "        if i%2==0:\n",
    "            count=count+1\n",
    "\n",
    "print(\"number of even numbers in the list:\",given_list,\"is:\",count)"
   ]
  }
 ],
 "metadata": {
  "kernelspec": {
   "display_name": "Python 3",
   "language": "python",
   "name": "python3"
  },
  "language_info": {
   "codemirror_mode": {
    "name": "ipython",
    "version": 3
   },
   "file_extension": ".py",
   "mimetype": "text/x-python",
   "name": "python",
   "nbconvert_exporter": "python",
   "pygments_lexer": "ipython3",
   "version": "3.11.4"
  }
 },
 "nbformat": 4,
 "nbformat_minor": 2
}
