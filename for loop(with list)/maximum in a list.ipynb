{
 "cells": [
  {
   "cell_type": "markdown",
   "metadata": {},
   "source": [
    "GIVEN A LIST OF NUMBERS FIND THE MAXIMUM NUMBER IN IT"
   ]
  },
  {
   "cell_type": "code",
   "execution_count": 2,
   "metadata": {},
   "outputs": [
    {
     "name": "stdout",
     "output_type": "stream",
     "text": [
      "maximum in the list: [12, -1, 2, 8, 9, 0, 7, 8, -100] is: 12\n"
     ]
    }
   ],
   "source": [
    "given_list=[12,-1,2,8,9,0,7,8,-100] # an arbitery list\n",
    "\n",
    "max_list=given_list[0] # for comparation\n",
    "for i in given_list:\n",
    "    if i>max_list: # condition \n",
    "        max_list=i\n",
    "\n",
    "print(\"maximum in the list:\",given_list,\"is:\", max_list) # thus get maximmum"
   ]
  }
 ],
 "metadata": {
  "kernelspec": {
   "display_name": "Python 3",
   "language": "python",
   "name": "python3"
  },
  "language_info": {
   "codemirror_mode": {
    "name": "ipython",
    "version": 3
   },
   "file_extension": ".py",
   "mimetype": "text/x-python",
   "name": "python",
   "nbconvert_exporter": "python",
   "pygments_lexer": "ipython3",
   "version": "3.11.4"
  }
 },
 "nbformat": 4,
 "nbformat_minor": 2
}
