{
 "cells": [
  {
   "cell_type": "markdown",
   "metadata": {},
   "source": [
    "Create a dictionary whose keys are the names of your family members and friends, and the values are the list of fruits they like to eat. Now if the user gives a fruit as input, the code should print the list of names who like this fruit. Write another code to print the list of people who do not like this fruit. Using this dictionary as input, write a code to make a consolidated list of all the fruit names present in the values of various keys. This list should not have any duplicate entries. Do not use the set() function."
   ]
  },
  {
   "cell_type": "code",
   "execution_count": 2,
   "metadata": {},
   "outputs": [
    {
     "name": "stdout",
     "output_type": "stream",
     "text": [
      "apple is liked by: ['Rahul', 'Sahil'] while disliked by: ['Aditya']\n",
      "The consolidated list of all fruit name present in the dictionary values is: ['apple', 'banana', 'orange', 'coconut', 'papaya', 'mango', 'pears']\n"
     ]
    }
   ],
   "source": [
    "dict_likes={\"Rahul\":[\"apple\",\"banana\",\"orange\",\"coconut\"],\"Sahil\":[\"papaya\",\"apple\",\"orange\"],\"Aditya\":[\"mango\",\"pears\",\"banana\"]} # the dictionary\n",
    "list_like=[]\n",
    "list_dislike=[]\n",
    "list_set_fruits=[] # created list for appending name of person who liked, who doesn't and name of unique fruit\n",
    "fruit=input(\"enter name of a fruit\")\n",
    "for key,value in dict_likes.items():\n",
    "    if fruit in value:\n",
    "        list_like.append(key) # the person who likes the fruit\n",
    "    else:\n",
    "        list_dislike.append(key) # doesn't likes\n",
    "    for i in range(len(value)):\n",
    "        if value[i] not in list_set_fruits:\n",
    "            list_set_fruits.append(value[i]) # appending unique fruit\n",
    "\n",
    "print(fruit,\"is liked by:\",list_like,\"while disliked by:\",list_dislike)\n",
    "print(\"The consolidated list of all fruit name present in the dictionary values is:\",list_set_fruits)"
   ]
  }
 ],
 "metadata": {
  "kernelspec": {
   "display_name": "Python 3",
   "language": "python",
   "name": "python3"
  },
  "language_info": {
   "codemirror_mode": {
    "name": "ipython",
    "version": 3
   },
   "file_extension": ".py",
   "mimetype": "text/x-python",
   "name": "python",
   "nbconvert_exporter": "python",
   "pygments_lexer": "ipython3",
   "version": "3.11.4"
  }
 },
 "nbformat": 4,
 "nbformat_minor": 2
}
