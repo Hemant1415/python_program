{
 "cells": [
  {
   "cell_type": "markdown",
   "metadata": {},
   "source": [
    "Write a for loop to create another dictionary from the above where the marks are replaced by grades. Above 80 is A grade, 60–80 is B grade, 40–60 is C grade, and below 40 is F. Create another dictionary to store the max and average marks for each student. Use this dictionary to compute the final CPI/CGPA of the student. Course1 is of 4 credits, Course2 of 10 credits, and Course3 of 6 credits. Store these credits in a list. Write this dictionary as a json file, and read it back into a new dictionary"
   ]
  },
  {
   "cell_type": "code",
   "execution_count": 10,
   "metadata": {},
   "outputs": [
    {
     "name": "stdout",
     "output_type": "stream",
     "text": [
      "{'Rahul': ['C', 'A', 'B'], 'Sahil': ['B', 'A', 'C'], 'Vinay': ['F', 'A', 'B'], 'Virat': ['B', 'C', 'A'], 'Vijay': ['B', 'A', 'B']}\n",
      "{'Rahul': 8.25, 'Sahil': 8.0, 'Vinay': 7.25, 'Virat': 7.0, 'Vijay': 8.75}\n"
     ]
    }
   ],
   "source": [
    "dict_of_marks={\"Rahul\":[46,97,69],\"Sahil\":[67,88,57],\"Vinay\":[34,91,60],\"Virat\":[76,59,89],\"Vijay\":[65,87,70]} # dictionary containing marks\n",
    "dict_copy=dict(dict_of_marks) # for itration. Avoiding the changes in the original dict\n",
    "for key,value in dict_of_marks.items():\n",
    "    for i in range(len(value)):\n",
    "        if value[i]>=80:\n",
    "            value[i]=\"A\"\n",
    "        elif value[i]>=60:\n",
    "            value[i]=\"B\"\n",
    "        elif value[i]>=40:\n",
    "            value[i]=\"C\"\n",
    "        else:\n",
    "            value[i]=\"F\"\n",
    "print(dict_copy) # dictionary containing grades\n",
    "list_credit=[4,10,6]\n",
    "sum_credit=sum(list_credit)\n",
    "dict_credit={}\n",
    "for key,value in dict_of_marks.items():\n",
    "    addition=0\n",
    "    for i in range(len(value)):\n",
    "        if value[i]==\"A\":\n",
    "            addition=addition+list_credit[i]*100\n",
    "        elif value[i]==\"B\":\n",
    "            addition=addition+list_credit[i]*75\n",
    "        elif value[i]==\"C\":\n",
    "            addition=addition+list_credit[i]*50\n",
    "        else:\n",
    "            addition=addition+list_credit[i]*0\n",
    "    dict_credit[key]=addition/(sum_credit*10)           # formula of CGPA(out of ten)=sum(totol credit in subject * percentage gain)/(total credits * 10)\n",
    "print(dict_credit)"
   ]
  },
  {
   "cell_type": "code",
   "execution_count": 5,
   "metadata": {},
   "outputs": [
    {
     "name": "stdout",
     "output_type": "stream",
     "text": [
      "{\"Rahul\": 82.5, \"Sahil\": 80.0, \"Vinay\": 72.5, \"Virat\": 70.0, \"Vijay\": 87.5}\n"
     ]
    }
   ],
   "source": [
    "dict_credit_copy=dict_credit.copy()\n",
    "import json # imports json file\n",
    "dict1=json.dumps(dict_credit_copy) #storing the dictionary into json file\n",
    "print(dict1)"
   ]
  },
  {
   "cell_type": "code",
   "execution_count": 6,
   "metadata": {},
   "outputs": [
    {
     "name": "stdout",
     "output_type": "stream",
     "text": [
      "{'Rahul': 82.5, 'Sahil': 80.0, 'Vinay': 72.5, 'Virat': 70.0, 'Vijay': 87.5}\n"
     ]
    }
   ],
   "source": [
    "import json\n",
    "dict2=json.loads(dict1) # extracting the dictionary\n",
    "print(dict2)"
   ]
  }
 ],
 "metadata": {
  "kernelspec": {
   "display_name": "Python 3",
   "language": "python",
   "name": "python3"
  },
  "language_info": {
   "codemirror_mode": {
    "name": "ipython",
    "version": 3
   },
   "file_extension": ".py",
   "mimetype": "text/x-python",
   "name": "python",
   "nbconvert_exporter": "python",
   "pygments_lexer": "ipython3",
   "version": "3.11.4"
  }
 },
 "nbformat": 4,
 "nbformat_minor": 2
}
