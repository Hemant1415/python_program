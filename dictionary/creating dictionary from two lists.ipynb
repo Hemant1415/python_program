{
 "cells": [
  {
   "cell_type": "markdown",
   "metadata": {},
   "source": [
    "CONVERT THESE TWO LISTS INTO A DICTIONARY. TAKE THE KEYS FROM FIRST LIST, AND VALUES FROM THE SECOND ONE.\n",
    "KEYS=[\"TEN\",\"TWENTY\",\"THIRTY\"],\n",
    "  \n",
    "  VALUES=[10,20,30]"
   ]
  },
  {
   "cell_type": "code",
   "execution_count": 5,
   "metadata": {},
   "outputs": [
    {
     "name": "stdout",
     "output_type": "stream",
     "text": [
      "{'ten': 10, 'twenty': 20, 'thirty': 30}\n"
     ]
    }
   ],
   "source": [
    "list_keys=[\"ten\",\"twenty\",\"thirty\"]\n",
    "list_values=[10,20,30]\n",
    "\n",
    "dict_conv={} # creating a empty dictionary\n",
    "\n",
    "for i in range(len(list_keys)):\n",
    "    key=list_keys[i]\n",
    "    value=list_values[i] # IDEA TO SOLVE THE QUESTION\n",
    "    dict_conv[key]=value\n",
    "\n",
    "print(dict_conv)"
   ]
  },
  {
   "cell_type": "code",
   "execution_count": null,
   "metadata": {},
   "outputs": [],
   "source": []
  }
 ],
 "metadata": {
  "kernelspec": {
   "display_name": "Python 3",
   "language": "python",
   "name": "python3"
  },
  "language_info": {
   "codemirror_mode": {
    "name": "ipython",
    "version": 3
   },
   "file_extension": ".py",
   "mimetype": "text/x-python",
   "name": "python",
   "nbconvert_exporter": "python",
   "pygments_lexer": "ipython3",
   "version": "3.11.4"
  }
 },
 "nbformat": 4,
 "nbformat_minor": 2
}
