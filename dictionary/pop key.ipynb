{
 "cells": [
  {
   "cell_type": "markdown",
   "metadata": {},
   "source": [
    "Remove a key from a dictionary:\n",
    "dict_name.pop(key_name)\n",
    "What does this function return?\n",
    "Use pop to rename a key."
   ]
  },
  {
   "cell_type": "code",
   "execution_count": 1,
   "metadata": {},
   "outputs": [
    {
     "name": "stdout",
     "output_type": "stream",
     "text": [
      "{'b': 200, 'c': 300}\n",
      "{'c': 300, 'd': 200}\n"
     ]
    }
   ],
   "source": [
    "sample_dict = {\"a\": 100, \"b\": 200, \"c\": 300}\n",
    "\n",
    "sample_dict.pop(\"a\")\n",
    "print(sample_dict)\n",
    "# this function removes the poping element\n",
    "\n",
    "# using the function to rename a key\n",
    "sample_dict[\"d\"]=sample_dict.pop(\"b\")\n",
    "print(sample_dict)"
   ]
  }
 ],
 "metadata": {
  "kernelspec": {
   "display_name": "Python 3",
   "language": "python",
   "name": "python3"
  },
  "language_info": {
   "codemirror_mode": {
    "name": "ipython",
    "version": 3
   },
   "file_extension": ".py",
   "mimetype": "text/x-python",
   "name": "python",
   "nbconvert_exporter": "python",
   "pygments_lexer": "ipython3",
   "version": "3.11.4"
  }
 },
 "nbformat": 4,
 "nbformat_minor": 2
}
