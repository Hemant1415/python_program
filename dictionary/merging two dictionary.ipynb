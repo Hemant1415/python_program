{
 "cells": [
  {
   "cell_type": "markdown",
   "metadata": {},
   "source": [
    "MERGE THESE TWO GIVEN DICTIONARIES INTO ONE USING FOTR LOOP\n",
    "\n",
    "DICT1={\"TEN\":10,\"TWENTY\":20,\"THIRTY\":30,}\n",
    "DICT2={\"THIRTY\"30:,\"FORTY\":40,\"FIFTY\":50}"
   ]
  },
  {
   "cell_type": "code",
   "execution_count": 6,
   "metadata": {},
   "outputs": [
    {
     "name": "stdout",
     "output_type": "stream",
     "text": [
      "{'TEN': 10, 'TWENTY': 20, 'THIRTY': 30, 'FORTY': 40, 'FIFTY': 50}\n"
     ]
    }
   ],
   "source": [
    "dict1={\"TEN\":10,\"TWENTY\":20,\"THIRTY\":30,}\n",
    "dict2={\"THIRTY\":30,\"FORTY\":40,\"FIFTY\":50}\n",
    "\n",
    "dict_merg=dict1 # adding dict1 in another dictionary\n",
    "\n",
    "for key,value in dict2.items():\n",
    "    dict_merg[key]=value # adding dict2 into the same dictionary\n",
    "\n",
    "print(dict_merg)"
   ]
  }
 ],
 "metadata": {
  "kernelspec": {
   "display_name": "Python 3",
   "language": "python",
   "name": "python3"
  },
  "language_info": {
   "codemirror_mode": {
    "name": "ipython",
    "version": 3
   },
   "file_extension": ".py",
   "mimetype": "text/x-python",
   "name": "python",
   "nbconvert_exporter": "python",
   "pygments_lexer": "ipython3",
   "version": "3.11.4"
  }
 },
 "nbformat": 4,
 "nbformat_minor": 2
}
