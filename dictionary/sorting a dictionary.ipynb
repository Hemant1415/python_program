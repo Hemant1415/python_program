{
 "cells": [
  {
   "cell_type": "markdown",
   "metadata": {},
   "source": [
    "Create a dictionary of your marks in various subjects and then sort it by its values first in descending order, and then in or ascending order. Do not use any inbuilt sorting functions."
   ]
  },
  {
   "cell_type": "code",
   "execution_count": 29,
   "metadata": {},
   "outputs": [
    {
     "name": "stdout",
     "output_type": "stream",
     "text": [
      "{'Physics': 79, 'Hindi': 88, 'English': 89, 'Maths': 94, 'Chemistry': 94}\n",
      "{'Chemistry': 94, 'Maths': 94, 'English': 89, 'Hindi': 88, 'Physics': 79}\n"
     ]
    }
   ],
   "source": [
    "dict_marks={\"Maths\":94,\"Physics\":79,\"Chemistry\":94,\"Hindi\":88,\"English\":89} # dictionary containing marks\n",
    "list_value=list(dict_marks.values()) # list of values in the dictionary\n",
    "list_sort=[]\n",
    "lenght=len(dict_marks)\n",
    "\n",
    "\n",
    "while lenght>0:\n",
    "    max=list_value[0]\n",
    "    for i in list_value:\n",
    "        if max>i:\n",
    "            max=i\n",
    "    list_value.remove(max)\n",
    "    list_sort.append(max)\n",
    "    lenght=lenght-1   # this operation sorts the list\n",
    "\n",
    "lenght=len(dict_marks)\n",
    "\n",
    "\n",
    "list_key=[]\n",
    "for i in list_sort:\n",
    "    for key in dict_marks.keys():\n",
    "        if dict_marks[key]==i:\n",
    "            if key not in list_key:\n",
    "               list_key.append(key) # arranges the key as same index as value\n",
    "\n",
    "\n",
    "for i in range(len(list_sort)):\n",
    "    dict_marks.pop(list_key[i]) # removing the key,value from the dictionary\n",
    "    dict_marks[list_key[i]]=list_sort[i] # adding the key,value at last position of dictionary\n",
    "print(dict_marks) # the dictionary is sorted in ascending order\n",
    "\n",
    "\n",
    "list_sort=list_sort[::-1] \n",
    "list_key=list_key[::-1]  # reversing the above lists\n",
    "for i in range(len(list_sort)):\n",
    "    dict_marks.pop(list_key[i])# adding the key,value at last position of dictionary\n",
    "    dict_marks[list_key[i]]=list_sort[i]# the dictionary is sorted in ascending order\n",
    "print(dict_marks) # the dictionary is sorted in descending order\n"
   ]
  }
 ],
 "metadata": {
  "kernelspec": {
   "display_name": "Python 3",
   "language": "python",
   "name": "python3"
  },
  "language_info": {
   "codemirror_mode": {
    "name": "ipython",
    "version": 3
   },
   "file_extension": ".py",
   "mimetype": "text/x-python",
   "name": "python",
   "nbconvert_exporter": "python",
   "pygments_lexer": "ipython3",
   "version": "3.11.4"
  }
 },
 "nbformat": 4,
 "nbformat_minor": 2
}
