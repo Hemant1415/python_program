{
 "cells": [
  {
   "cell_type": "markdown",
   "metadata": {},
   "source": [
    "Dictionary of marks={\"Rahul\":[98,97,99],\"Sahil\":[96,97,96],\"Vinay\":[98,97,90],\"Virat\":[97,97,89],\"Vijay\":[99,97,100]}\n",
    "Subject=[\"Maths\",\"Physics\",\"Chemisty\"]  marks in list are respective to elements in list subject\n",
    "print marks of student subject wise"
   ]
  },
  {
   "cell_type": "code",
   "execution_count": 2,
   "metadata": {},
   "outputs": [
    {
     "name": "stdout",
     "output_type": "stream",
     "text": [
      "\n",
      "Maths\n",
      "Rahul : 98\n",
      "Sahil : 96\n",
      "Vinay : 98\n",
      "Virat : 97\n",
      "Vijay : 99\n",
      "\n",
      "Physics\n",
      "Rahul : 97\n",
      "Sahil : 98\n",
      "Vinay : 95\n",
      "Virat : 97\n",
      "Vijay : 97\n",
      "\n",
      "Chemisty\n",
      "Rahul : 99\n",
      "Sahil : 96\n",
      "Vinay : 90\n",
      "Virat : 89\n",
      "Vijay : 100\n"
     ]
    }
   ],
   "source": [
    "Dict_of_marks={\"Rahul\":[98,97,99],\"Sahil\":[96,98,96],\"Vinay\":[98,95,90],\"Virat\":[97,97,89],\"Vijay\":[99,97,100]}\n",
    "Subject=[\"Maths\",\"Physics\",\"Chemisty\"] # given dictionary of marks and list of subject\n",
    "\n",
    "len_sub=len(Subject)\n",
    "for i in range(len_sub): # itrating over the list\n",
    "    print() # for space\n",
    "    print(Subject[i]) # printing the subject\n",
    "    for key,value in Dict_of_marks.items():\n",
    "        print(key,\":\",value[i]) # printing name and marks in the subject"
   ]
  }
 ],
 "metadata": {
  "kernelspec": {
   "display_name": "Python 3",
   "language": "python",
   "name": "python3"
  },
  "language_info": {
   "codemirror_mode": {
    "name": "ipython",
    "version": 3
   },
   "file_extension": ".py",
   "mimetype": "text/x-python",
   "name": "python",
   "nbconvert_exporter": "python",
   "pygments_lexer": "ipython3",
   "version": "3.11.4"
  }
 },
 "nbformat": 4,
 "nbformat_minor": 2
}
