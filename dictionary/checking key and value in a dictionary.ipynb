{
 "cells": [
  {
   "cell_type": "markdown",
   "metadata": {},
   "source": [
    "Check if a key exists in a dictionary:\n",
    "sample_dict = {‘a’: 100, ‘b’: 200, ‘c’: 300}\n",
    "key_needed = ‘d’\n",
    "Check if a value exists in a dictionary:\n",
    "sample_dict = {‘a’: 100, ‘b’: 200, ‘c’: 300}\n",
    "value_needed = 200"
   ]
  },
  {
   "cell_type": "code",
   "execution_count": 7,
   "metadata": {},
   "outputs": [
    {
     "name": "stdout",
     "output_type": "stream",
     "text": [
      "d is not in the dictionary {'a': 100, 'b': 200, 'c': 300}\n",
      "200 is in the values dictionary {'a': 100, 'b': 200, 'c': 300}\n"
     ]
    }
   ],
   "source": [
    "sample_dict = {\"a\": 100, \"b\": 200, \"c\": 300}\n",
    "\n",
    "if \"d\" in sample_dict.keys(): # checking for d in keys of sample_dict\n",
    "    print(\"d is in the keys dictionary\",sample_dict)\n",
    "else:\n",
    "    print(\"d is not in the dictionary\",sample_dict)\n",
    "\n",
    "\n",
    "if 200 in sample_dict.values():# checking for 200 in values of sample_dict\n",
    "    print(\"200 is in the values dictionary\",sample_dict)\n",
    "else:\n",
    "    print(\"200 is not in the values dictionary\",sample_dict)"
   ]
  }
 ],
 "metadata": {
  "kernelspec": {
   "display_name": "Python 3",
   "language": "python",
   "name": "python3"
  },
  "language_info": {
   "codemirror_mode": {
    "name": "ipython",
    "version": 3
   },
   "file_extension": ".py",
   "mimetype": "text/x-python",
   "name": "python",
   "nbconvert_exporter": "python",
   "pygments_lexer": "ipython3",
   "version": "3.11.4"
  }
 },
 "nbformat": 4,
 "nbformat_minor": 2
}
